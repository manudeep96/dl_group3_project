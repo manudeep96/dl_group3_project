{
  "nbformat": 4,
  "nbformat_minor": 0,
  "metadata": {
    "colab": {
      "provenance": [],
      "machine_shape": "hm",
      "gpuType": "T4"
    },
    "kernelspec": {
      "name": "python3",
      "display_name": "Python 3"
    },
    "language_info": {
      "name": "python"
    },
    "accelerator": "GPU"
  },
  "cells": [
    {
      "cell_type": "code",
      "source": [
        "import torch\n",
        "from string import punctuation\n",
        "import nltk\n",
        "nltk.download('stopwords')\n",
        "nltk.download('punkt')\n",
        "nltk.download('wordnet')\n",
        "nltk.download('averaged_perceptron_tagger')\n",
        "from nltk.lm import Vocabulary\n",
        "from nltk import pos_tag\n",
        "import spacy\n",
        "import pandas as pd\n",
        "import numpy as np\n",
        "import string\n",
        "from sklearn.preprocessing import OneHotEncoder\n",
        "from torchtext.datasets import WikiText2\n",
        "from torchtext.data.utils import get_tokenizer\n",
        "from torchtext.vocab import build_vocab_from_iterator\n",
        "import math\n",
        "import os\n",
        "from tempfile import TemporaryDirectory\n",
        "from typing import Tuple\n",
        "\n",
        "import torch\n",
        "from torch import nn, Tensor\n",
        "from torch.nn import TransformerEncoder, TransformerEncoderLayer\n",
        "from torch.utils.data import dataset\n"
      ],
      "metadata": {
        "id": "FhpL4wJ5dfUR",
        "colab": {
          "base_uri": "https://localhost:8080/"
        },
        "outputId": "f37b7843-80cf-4e40-e761-01cea1785745"
      },
      "execution_count": null,
      "outputs": [
        {
          "output_type": "stream",
          "name": "stderr",
          "text": [
            "[nltk_data] Downloading package stopwords to /root/nltk_data...\n",
            "[nltk_data]   Unzipping corpora/stopwords.zip.\n",
            "[nltk_data] Downloading package punkt to /root/nltk_data...\n",
            "[nltk_data]   Unzipping tokenizers/punkt.zip.\n",
            "[nltk_data] Downloading package wordnet to /root/nltk_data...\n",
            "[nltk_data] Downloading package averaged_perceptron_tagger to\n",
            "[nltk_data]     /root/nltk_data...\n",
            "[nltk_data]   Unzipping taggers/averaged_perceptron_tagger.zip.\n"
          ]
        }
      ]
    },
    {
      "cell_type": "code",
      "source": [
        "spacy.load('en_core_web_sm')"
      ],
      "metadata": {
        "colab": {
          "base_uri": "https://localhost:8080/"
        },
        "id": "SE-KRvkFwT9x",
        "outputId": "3f822000-0179-48aa-81d5-9997d46aad5f"
      },
      "execution_count": null,
      "outputs": [
        {
          "output_type": "execute_result",
          "data": {
            "text/plain": [
              "<spacy.lang.en.English at 0x7943ea67ada0>"
            ]
          },
          "metadata": {},
          "execution_count": 2
        }
      ]
    },
    {
      "cell_type": "markdown",
      "source": [
        "# Data Analysis and Preprocessing"
      ],
      "metadata": {
        "id": "cHpwlQ16PE4O"
      }
    },
    {
      "cell_type": "code",
      "source": [
        "!unzip liar_dataset.zip"
      ],
      "metadata": {
        "colab": {
          "base_uri": "https://localhost:8080/"
        },
        "id": "VHSn09emPD9z",
        "outputId": "80810d19-c6eb-47f3-8374-e81340ac0e0d"
      },
      "execution_count": null,
      "outputs": [
        {
          "output_type": "stream",
          "name": "stdout",
          "text": [
            "Archive:  liar_dataset.zip\n",
            "  inflating: README                  \n",
            "  inflating: test.tsv                \n",
            "  inflating: train.tsv               \n",
            "  inflating: valid.tsv               \n"
          ]
        }
      ]
    },
    {
      "cell_type": "code",
      "source": [
        "dataset_columns = ['id','label','text','subject','speaker','job title','state info','party','barely true','false','half true','mostly true','pants on fire','context']"
      ],
      "metadata": {
        "id": "nneDaSCYQnqu"
      },
      "execution_count": null,
      "outputs": []
    },
    {
      "cell_type": "code",
      "source": [
        "train = pd.read_csv('train.tsv',sep='\\t',header=None, names = dataset_columns)\n",
        "test = pd.read_csv('test.tsv',sep='\\t',header=None, names = dataset_columns)\n",
        "val = pd.read_csv('valid.tsv',sep='\\t',header=None, names = dataset_columns)"
      ],
      "metadata": {
        "id": "p1sHTnqjP6we"
      },
      "execution_count": null,
      "outputs": []
    },
    {
      "cell_type": "code",
      "source": [
        "print(train.info())"
      ],
      "metadata": {
        "colab": {
          "base_uri": "https://localhost:8080/"
        },
        "id": "1GXxzEN3QRLq",
        "outputId": "4b4e1ffe-6891-42fa-fbde-d887f7747101"
      },
      "execution_count": null,
      "outputs": [
        {
          "output_type": "stream",
          "name": "stdout",
          "text": [
            "<class 'pandas.core.frame.DataFrame'>\n",
            "RangeIndex: 10240 entries, 0 to 10239\n",
            "Data columns (total 14 columns):\n",
            " #   Column         Non-Null Count  Dtype  \n",
            "---  ------         --------------  -----  \n",
            " 0   id             10240 non-null  object \n",
            " 1   label          10240 non-null  object \n",
            " 2   text           10240 non-null  object \n",
            " 3   subject        10238 non-null  object \n",
            " 4   speaker        10238 non-null  object \n",
            " 5   job title      7343 non-null   object \n",
            " 6   state info     8032 non-null   object \n",
            " 7   party          10238 non-null  object \n",
            " 8   barely true    10238 non-null  float64\n",
            " 9   false          10238 non-null  float64\n",
            " 10  half true      10238 non-null  float64\n",
            " 11  mostly true    10238 non-null  float64\n",
            " 12  pants on fire  10238 non-null  float64\n",
            " 13  context        10138 non-null  object \n",
            "dtypes: float64(5), object(9)\n",
            "memory usage: 1.1+ MB\n",
            "None\n"
          ]
        }
      ]
    },
    {
      "cell_type": "code",
      "source": [
        "print(train.head(2))"
      ],
      "metadata": {
        "colab": {
          "base_uri": "https://localhost:8080/"
        },
        "id": "xTjfMzh_R0l-",
        "outputId": "05474e35-aa96-488e-cdfc-e32ce66cdfef"
      },
      "execution_count": null,
      "outputs": [
        {
          "output_type": "stream",
          "name": "stdout",
          "text": [
            "           id      label                                               text  \\\n",
            "0   2635.json      false  Says the Annies List political group supports ...   \n",
            "1  10540.json  half-true  When did the decline of coal start? It started...   \n",
            "\n",
            "                              subject         speaker             job title  \\\n",
            "0                            abortion    dwayne-bohac  State representative   \n",
            "1  energy,history,job-accomplishments  scott-surovell        State delegate   \n",
            "\n",
            "  state info       party  barely true  false  half true  mostly true  \\\n",
            "0      Texas  republican          0.0    1.0        0.0          0.0   \n",
            "1   Virginia    democrat          0.0    0.0        1.0          1.0   \n",
            "\n",
            "   pants on fire          context  \n",
            "0            0.0         a mailer  \n",
            "1            0.0  a floor speech.  \n"
          ]
        }
      ]
    },
    {
      "cell_type": "code",
      "source": [
        "# number of rows with nas in it\n",
        "print(train.isna().sum())\n",
        "\n",
        "# too many rows (~20% of the dataset), removing these might cause issues\n",
        "# we might need to add in another class called unknown for nan values in\n",
        "# job title and state info. This was preferred so thatwe can keep the data\n",
        "# without adding bias using imputation through median values or inverse cosine\n",
        "\n",
        "# other columns are small enough that the rows can be dropped and ignored"
      ],
      "metadata": {
        "colab": {
          "base_uri": "https://localhost:8080/"
        },
        "id": "2I2_vZF5Q5Af",
        "outputId": "44fa9a84-dccf-4fc5-e2ab-757f00ce385c"
      },
      "execution_count": null,
      "outputs": [
        {
          "output_type": "stream",
          "name": "stdout",
          "text": [
            "id                  0\n",
            "label               0\n",
            "text                0\n",
            "subject             2\n",
            "speaker             2\n",
            "job title        2897\n",
            "state info       2208\n",
            "party               2\n",
            "barely true         2\n",
            "false               2\n",
            "half true           2\n",
            "mostly true         2\n",
            "pants on fire       2\n",
            "context           102\n",
            "dtype: int64\n"
          ]
        }
      ]
    },
    {
      "cell_type": "code",
      "source": [
        "def handle_nas(df):\n",
        "  # get all indices where job title and state info are nas:\n",
        "  jt_indices = df[df[\"job title\"].isna()].index\n",
        "  si_indices = df[df[\"state info\"].isna()].index\n",
        "\n",
        "  df.loc[jt_indices,\"job title\"] = \"unk\"\n",
        "  df.loc[si_indices,\"state info\"] = \"unk\"\n",
        "\n",
        "  # dropping all other rows with nas\n",
        "  df.dropna(inplace=True)\n",
        "  df = df.reset_index(drop=True)\n",
        "\n",
        "  return df\n"
      ],
      "metadata": {
        "id": "f0A-hWN1Sa_i"
      },
      "execution_count": null,
      "outputs": []
    },
    {
      "cell_type": "code",
      "source": [
        "train = handle_nas(train)\n",
        "print(train.isna().sum())\n",
        "print(train.info())"
      ],
      "metadata": {
        "colab": {
          "base_uri": "https://localhost:8080/"
        },
        "id": "yHi-9FuxV5t-",
        "outputId": "09a4ba52-f7b3-438b-f278-ba7a6d227dd1"
      },
      "execution_count": null,
      "outputs": [
        {
          "output_type": "stream",
          "name": "stdout",
          "text": [
            "id               0\n",
            "label            0\n",
            "text             0\n",
            "subject          0\n",
            "speaker          0\n",
            "job title        0\n",
            "state info       0\n",
            "party            0\n",
            "barely true      0\n",
            "false            0\n",
            "half true        0\n",
            "mostly true      0\n",
            "pants on fire    0\n",
            "context          0\n",
            "dtype: int64\n",
            "<class 'pandas.core.frame.DataFrame'>\n",
            "RangeIndex: 10138 entries, 0 to 10137\n",
            "Data columns (total 14 columns):\n",
            " #   Column         Non-Null Count  Dtype  \n",
            "---  ------         --------------  -----  \n",
            " 0   id             10138 non-null  object \n",
            " 1   label          10138 non-null  object \n",
            " 2   text           10138 non-null  object \n",
            " 3   subject        10138 non-null  object \n",
            " 4   speaker        10138 non-null  object \n",
            " 5   job title      10138 non-null  object \n",
            " 6   state info     10138 non-null  object \n",
            " 7   party          10138 non-null  object \n",
            " 8   barely true    10138 non-null  float64\n",
            " 9   false          10138 non-null  float64\n",
            " 10  half true      10138 non-null  float64\n",
            " 11  mostly true    10138 non-null  float64\n",
            " 12  pants on fire  10138 non-null  float64\n",
            " 13  context        10138 non-null  object \n",
            "dtypes: float64(5), object(9)\n",
            "memory usage: 1.1+ MB\n",
            "None\n"
          ]
        }
      ]
    },
    {
      "cell_type": "code",
      "source": [
        "test = handle_nas(test)\n",
        "val = handle_nas(val)"
      ],
      "metadata": {
        "id": "RXMAQP-oXvei"
      },
      "execution_count": null,
      "outputs": []
    },
    {
      "cell_type": "code",
      "source": [
        "def get_meta_data(df, df_val, df_test):\n",
        "  concatenated_df = pd.concat([df,df_val,df_test])\n",
        "  print(concatenated_df)\n",
        "  # handling meta data\n",
        "  # not storing anything in vocab\n",
        "  top_categories = df['speaker'].value_counts().nlargest(20).index\n",
        "  print(\"speaker top categories:\",df['speaker'].value_counts().nlargest(20))\n",
        "  concatenated_df['speaker'] = concatenated_df['speaker'].where(concatenated_df['speaker'].isin(top_categories), 'Other')\n",
        "  speaker_ohe = pd.get_dummies(concatenated_df['speaker']).to_numpy()\n",
        "  print(speaker_ohe.shape)\n",
        "\n",
        "  # largest category is unk which we imputed. To ensure there is no bias, it is\n",
        "  # not taken into consideration\n",
        "  top_categories = df['job title'].value_counts().nlargest(20).index\n",
        "  print(\"job title top categories:\",df['job title'].value_counts().nlargest(20))\n",
        "  concatenated_df['job title'] = concatenated_df['job title'].where(concatenated_df['job title'].isin(top_categories), 'Other')\n",
        "  job_title_ohe = pd.get_dummies(concatenated_df['job title']).to_numpy()\n",
        "  print(job_title_ohe.shape)\n",
        "\n",
        "  # largest category is unk which we imputed. To ensure there is no bias, it is\n",
        "  # not taken into consideration\n",
        "  top_categories = df['state info'].value_counts().nlargest(20).index\n",
        "  print(\"state info top categories:\",df['state info'].value_counts().nlargest(20))\n",
        "  concatenated_df['state info'] = concatenated_df['state info'].where(concatenated_df['state info'].isin(top_categories), 'Other')\n",
        "  state_info_ohe = pd.get_dummies(concatenated_df['state info']).to_numpy()\n",
        "  print(state_info_ohe.shape)\n",
        "\n",
        "  top_categories = df['party'].value_counts().nlargest(20).index\n",
        "  print(\"party top categories:\",df['party'].value_counts().nlargest(20))\n",
        "  concatenated_df['party'] = concatenated_df['party'].where(concatenated_df['party'].isin(top_categories), 'Other')\n",
        "  party_ohe = pd.get_dummies(concatenated_df['party']).to_numpy()\n",
        "  print(party_ohe.shape)\n",
        "\n",
        "\n",
        "  top_categories = (\n",
        "      df['subject'].str.split(',', expand=True).stack()\n",
        "      .value_counts().nlargest(20).index\n",
        "  )\n",
        "\n",
        "  subjects = concatenated_df['subject'].apply(lambda x: [cat for cat in x.split(',') if cat in top_categories])\n",
        "  subjects = pd.get_dummies(subjects.apply(pd.Series).stack()).sum(level=0)\n",
        "  print(\"subjects top categories:\",subjects.columns)\n",
        "  subject_ohe = subjects.to_numpy()\n",
        "  print(subject_ohe.shape)\n",
        "\n",
        "  counts = concatenated_df[['barely true','false','half true','mostly true','pants on fire']].to_numpy()\n",
        "  print(counts.shape)\n",
        "\n",
        "  meta_data = np.hstack((speaker_ohe,job_title_ohe,state_info_ohe,party_ohe,counts))\n",
        "  meta_data_train = meta_data[:len(df)]\n",
        "  meta_data_val = meta_data[len(df):len(df)+len(df_val)]\n",
        "  meta_data_test = meta_data[len(df)+len(df_val):]\n",
        "  print(meta_data.shape)\n",
        "\n",
        "  return meta_data_train,meta_data_val,meta_data_test\n"
      ],
      "metadata": {
        "id": "2YYrn3fV2_VK"
      },
      "execution_count": null,
      "outputs": []
    },
    {
      "cell_type": "code",
      "source": [
        "meta_data_train,meta_data_val,meta_data_test = get_meta_data(train,val,test)\n",
        "print(meta_data_train.shape,len(train))\n",
        "print(meta_data_val.shape,len(val))\n",
        "print(meta_data_test.shape,len(test))"
      ],
      "metadata": {
        "colab": {
          "base_uri": "https://localhost:8080/"
        },
        "id": "4zvmOPueA3LF",
        "outputId": "6d44bc7b-d0a8-488b-bed4-fd5a459d1a43"
      },
      "execution_count": null,
      "outputs": [
        {
          "output_type": "stream",
          "name": "stdout",
          "text": [
            "              id        label  \\\n",
            "0      2635.json        false   \n",
            "1     10540.json    half-true   \n",
            "2       324.json  mostly-true   \n",
            "3      1123.json        false   \n",
            "4      9028.json    half-true   \n",
            "...          ...          ...   \n",
            "1245   7334.json    half-true   \n",
            "1246   9788.json  barely-true   \n",
            "1247  10710.json  barely-true   \n",
            "1248   3186.json  barely-true   \n",
            "1249   6743.json        false   \n",
            "\n",
            "                                                   text  \\\n",
            "0     Says the Annies List political group supports ...   \n",
            "1     When did the decline of coal start? It started...   \n",
            "2     Hillary Clinton agrees with John McCain \"by vo...   \n",
            "3     Health care reform legislation is likely to ma...   \n",
            "4     The economic turnaround started at the end of ...   \n",
            "...                                                 ...   \n",
            "1245  Says his budget provides the highest state fun...   \n",
            "1246                    Ive been here almost every day.   \n",
            "1247  In the early 1980s, Sen. Edward Kennedy secret...   \n",
            "1248  Says an EPA permit languished under Strickland...   \n",
            "1249  Says the governor is going around the state ta...   \n",
            "\n",
            "                                             subject                speaker  \\\n",
            "0                                           abortion           dwayne-bohac   \n",
            "1                 energy,history,job-accomplishments         scott-surovell   \n",
            "2                                     foreign-policy           barack-obama   \n",
            "3                                        health-care           blog-posting   \n",
            "4                                       economy,jobs          charlie-crist   \n",
            "...                                              ...                    ...   \n",
            "1245                                       education             rick-scott   \n",
            "1246             civil-rights,crime,criminal-justice              jay-nixon   \n",
            "1247  bipartisanship,congress,foreign-policy,history  mackubin-thomas-owens   \n",
            "1248               environment,government-efficiency            john-kasich   \n",
            "1249               state-budget,state-finances,taxes       john-burzichelli   \n",
            "\n",
            "                                             job title    state info  \\\n",
            "0                                 State representative         Texas   \n",
            "1                                       State delegate      Virginia   \n",
            "2                                            President      Illinois   \n",
            "3                                                  unk           unk   \n",
            "4                                                  unk       Florida   \n",
            "...                                                ...           ...   \n",
            "1245                                          Governor       Florida   \n",
            "1246                                          Governor      Missouri   \n",
            "1247  senior fellow, Foreign Policy Research Institute  Rhode Island   \n",
            "1248              Governor of Ohio as of Jan. 10, 2011          Ohio   \n",
            "1249                                               unk           unk   \n",
            "\n",
            "           party  barely true  false  half true  mostly true  pants on fire  \\\n",
            "0     republican          0.0    1.0        0.0          0.0            0.0   \n",
            "1       democrat          0.0    0.0        1.0          1.0            0.0   \n",
            "2       democrat         70.0   71.0      160.0        163.0            9.0   \n",
            "3           none          7.0   19.0        3.0          5.0           44.0   \n",
            "4       democrat         15.0    9.0       20.0         19.0            2.0   \n",
            "...          ...          ...    ...        ...          ...            ...   \n",
            "1245  republican         28.0   23.0       38.0         34.0            7.0   \n",
            "1246    democrat          2.0    0.0        0.0          1.0            0.0   \n",
            "1247   columnist          1.0    0.0        0.0          0.0            0.0   \n",
            "1248  republican          9.0    8.0       10.0         18.0            3.0   \n",
            "1249    democrat          1.0    1.0        0.0          0.0            0.0   \n",
            "\n",
            "                                     context  subject_encoded  \\\n",
            "0                                   a mailer               29   \n",
            "1                            a floor speech.             2554   \n",
            "2                                     Denver             2844   \n",
            "3                             a news release             3055   \n",
            "4                        an interview on CNN             2167   \n",
            "...                                      ...              ...   \n",
            "1245                       a news conference               -1   \n",
            "1246                    on ABC's \"This Week\"               -1   \n",
            "1247  a commentary in The Providence Journal               -1   \n",
            "1248                       a news conference               -1   \n",
            "1249               an interview with NJToday               -1   \n",
            "\n",
            "      context_encoded  speaker_encoded  party_encoded  state_encoded  \n",
            "0                1313              810             19             61  \n",
            "1                1153             2483              5             68  \n",
            "2                  79              181              5             19  \n",
            "3                1403              271             16             83  \n",
            "4                2877              426              5             13  \n",
            "...               ...              ...            ...            ...  \n",
            "1245               -1               -1             -1             -1  \n",
            "1246               -1               -1             -1             -1  \n",
            "1247               -1               -1             -1             -1  \n",
            "1248               -1               -1             -1             -1  \n",
            "1249               -1               -1             -1             -1  \n",
            "\n",
            "[12660 rows x 19 columns]\n",
            "speaker top categories: barack-obama       481\n",
            "donald-trump       273\n",
            "hillary-clinton    235\n",
            "mitt-romney        174\n",
            "scott-walker       149\n",
            "john-mccain        144\n",
            "rick-perry         140\n",
            "chain-email        131\n",
            "marco-rubio        116\n",
            "rick-scott         115\n",
            "ted-cruz            92\n",
            "bernie-s            88\n",
            "facebook-posts      78\n",
            "chris-christie      77\n",
            "newt-gingrich       69\n",
            "charlie-crist       69\n",
            "jeb-bush            63\n",
            "joe-biden           59\n",
            "blog-posting        59\n",
            "paul-ryan           56\n",
            "Name: speaker, dtype: int64\n",
            "(12660, 21)\n",
            "job title top categories: unk                              2866\n",
            "President                         485\n",
            "U.S. Senator                      475\n",
            "Governor                          383\n",
            "President-Elect                   273\n",
            "U.S. senator                      252\n",
            "Presidential candidate            250\n",
            "Former governor                   174\n",
            "U.S. Representative               169\n",
            "Milwaukee County Executive        149\n",
            "Senator                           146\n",
            "State Senator                     108\n",
            "U.S. House of Representatives     101\n",
            "U.S. representative               100\n",
            "Congressman                        80\n",
            "Attorney                           78\n",
            "Social media posting               78\n",
            "Governor of New Jersey             77\n",
            "Co-host on CNN's \"Crossfire\"       73\n",
            "State Representative               71\n",
            "Name: job title, dtype: int64\n",
            "(12660, 21)\n",
            "state info top categories: unk                 2183\n",
            "Texas               1000\n",
            "Florida              993\n",
            "Wisconsin            709\n",
            "New York             651\n",
            "Illinois             549\n",
            "Ohio                 444\n",
            "Georgia              420\n",
            "Virginia             399\n",
            "Rhode Island         369\n",
            "New Jersey           240\n",
            "Oregon               237\n",
            "Massachusetts        204\n",
            "Arizona              178\n",
            "California           159\n",
            "Washington, D.C.     120\n",
            "Vermont               98\n",
            "Pennsylvania          88\n",
            "New Hampshire         85\n",
            "Arkansas              83\n",
            "Name: state info, dtype: int64\n",
            "(12660, 21)\n",
            "party top categories: republican              4455\n",
            "democrat                3297\n",
            "none                    1725\n",
            "organization             219\n",
            "independent              147\n",
            "newsmaker                 56\n",
            "libertarian               40\n",
            "activist                  39\n",
            "journalist                38\n",
            "columnist                 35\n",
            "talk-show-host            26\n",
            "state-official            20\n",
            "labor-leader              11\n",
            "tea-party-member          10\n",
            "business-leader            9\n",
            "green                      3\n",
            "education-official         2\n",
            "liberal-party-canada       1\n",
            "government-body            1\n",
            "Moderate                   1\n",
            "Name: party, dtype: int64\n",
            "(12660, 21)\n"
          ]
        },
        {
          "output_type": "stream",
          "name": "stderr",
          "text": [
            "<ipython-input-18-4714610db26b>:41: FutureWarning: The default dtype for empty Series will be 'object' instead of 'float64' in a future version. Specify a dtype explicitly to silence this warning.\n",
            "  subjects = pd.get_dummies(subjects.apply(pd.Series).stack()).sum(level=0)\n"
          ]
        },
        {
          "output_type": "stream",
          "name": "stdout",
          "text": [
            "subjects top categories: Index(['candidates-biography', 'crime', 'economy', 'education', 'elections',\n",
            "       'energy', 'environment', 'federal-budget', 'foreign-policy', 'guns',\n",
            "       'health-care', 'history', 'immigration', 'job-accomplishments', 'jobs',\n",
            "       'legal-issues', 'military', 'state-budget', 'taxes', 'workers'],\n",
            "      dtype='object')\n",
            "(8305, 20)\n",
            "(12660, 5)\n",
            "(12660, 89)\n",
            "(10138, 89) 10138\n",
            "(1272, 89) 1272\n",
            "(1250, 89) 1250\n"
          ]
        },
        {
          "output_type": "stream",
          "name": "stderr",
          "text": [
            "<ipython-input-18-4714610db26b>:41: FutureWarning: Using the level keyword in DataFrame and Series aggregations is deprecated and will be removed in a future version. Use groupby instead. df.sum(level=1) should use df.groupby(level=1).sum().\n",
            "  subjects = pd.get_dummies(subjects.apply(pd.Series).stack()).sum(level=0)\n"
          ]
        }
      ]
    },
    {
      "cell_type": "code",
      "source": [
        "\n",
        "one_hot_encoder = OneHotEncoder()\n",
        "train_labels = one_hot_encoder.fit_transform(np.array(train[\"label\"]).reshape(-1, 1)).todense()\n",
        "test_labels = one_hot_encoder.transform(np.array(test[\"label\"]).reshape(-1, 1)).todense()\n",
        "val_labels = one_hot_encoder.transform(np.array(val[\"label\"]).reshape(-1, 1)).todense()\n",
        "\n",
        "class LiarDataset(torch.utils.data.Dataset):\n",
        "  def __init__(self,data,meta_data,all_labels = True, vocab = None, POS_vocab = None, DEP_vocab = None, build_vocab = True):\n",
        "    self.data = data\n",
        "    self.all_labels = all_labels\n",
        "    # get labels\n",
        "    if self.all_labels == True:\n",
        "      self.labels = one_hot_encoder.fit_transform(np.array(self.data[\"label\"]).reshape(-1,1)).todense()\n",
        "    self.stopwords = nltk.corpus.stopwords.words(\"english\")\n",
        "    self.lemmatizer = nltk.stem.WordNetLemmatizer()\n",
        "    # TODO: do all_labels = False\n",
        "    self.vocab = vocab\n",
        "    self.POS_vocab = POS_vocab\n",
        "    self.build_vocab = build_vocab\n",
        "    self.nlp = spacy.load(\"en_core_web_sm\")\n",
        "    self.tokenizer = get_tokenizer('basic_english')\n",
        "    self.device = torch.device('cuda' if torch.cuda.is_available() else 'cpu')\n",
        "    self.max_len = 50\n",
        "    self.meta_data = meta_data\n",
        "\n",
        "  def __getitem__(self,idx):\n",
        "    s = self.data[\"text\"][idx]\n",
        "    s = s.lower()\n",
        "    # dep_graph = self.nlp(s)\n",
        "    s = ''.join([c for c in s if c not in string.punctuation])\n",
        "    # tokenize text\n",
        "    s = nltk.word_tokenize(s)\n",
        "    # remove stop words\n",
        "    s = [word for word in s if word not in self.stopwords]\n",
        "    pos = pos_tag(s)\n",
        "    pos = [tup[1] for tup in pos]\n",
        "    # perform lemmatization\n",
        "    s = [self.lemmatizer.lemmatize(word) for word in s]\n",
        "    s = ' '.join(s)\n",
        "    # sample = {\"Text\":s,\"POS\":pos, \"DEP\":[token.dep_ for token in dep_graph],\"Label\":self.labels[idx]}\n",
        "\n",
        "    # handle meta data\n",
        "\n",
        "\n",
        "\n",
        "    sample = {\"Text\":s,\"POS\":pos,\"Meta\":self.meta_data[idx],\"Label\":self.labels[idx]}\n",
        "    if self.build_vocab == False:\n",
        "      sample[\"Text\"] = torch.tensor(self.vocab(self.tokenizer(sample[\"Text\"])), dtype=torch.long)\n",
        "      sample[\"POS\"] = torch.tensor(self.POS_vocab(sample[\"POS\"]), dtype=torch.long)\n",
        "      sample[\"Meta\"] = torch.tensor(sample[\"Meta\"], dtype=torch.long)\n",
        "      # sample[\"DEP\"] = torch.tensor(self.DEP_vocab(sample[\"DEP\"]), dtype=torch.long)\n",
        "      sample = self.preprocessing(sample)\n",
        "    return sample\n",
        "\n",
        "  def __len__(self):\n",
        "    return len(self.data)\n",
        "\n",
        "  def preprocessing(self,sample):\n",
        "    if len(sample[\"Text\"]) > self.max_len:\n",
        "      sample[\"Text\"] = sample[\"Text\"][:self.max_len]\n",
        "      sample[\"POS\"] = sample[\"POS\"][:self.max_len]\n",
        "      # sample[\"DEP\"] = sample[\"DEP\"][:self.max_len]\n",
        "    else:\n",
        "      sample[\"Text\"] = torch.cat((sample[\"Text\"],torch.tensor([0 for i in range(len(sample[\"Text\"]),self.max_len)])), dim = 0)\n",
        "      sample[\"POS\"] = torch.cat((sample[\"POS\"],torch.tensor([0 for i in range(len(sample[\"POS\"]),self.max_len)])), dim = 0)\n",
        "      # sample[\"DEP\"] = torch.cat((sample[\"DEP\"],torch.tensor([0 for i in range(len(sample[\"DEP\"]),self.max_len)])), dim = 0)\n",
        "\n",
        "    for key in sample:\n",
        "      if torch.is_tensor(sample[key]):\n",
        "        sample[key] = sample[key]\n",
        "      else:\n",
        "        sample[key] = torch.tensor(sample[key])\n",
        "    return sample\n"
      ],
      "metadata": {
        "id": "pTMAqQlMATnG"
      },
      "execution_count": null,
      "outputs": []
    },
    {
      "cell_type": "code",
      "source": [
        "train_dataset = LiarDataset(train,meta_data_train)"
      ],
      "metadata": {
        "id": "pl0VaT5xQMsK"
      },
      "execution_count": null,
      "outputs": []
    },
    {
      "cell_type": "code",
      "source": [
        "tokenizer = get_tokenizer('basic_english')\n",
        "def get_tokens(data_iter):\n",
        "  for sample in range(len(data_iter)):\n",
        "    yield tokenizer(data_iter[sample][\"Text\"])\n",
        "vocab = build_vocab_from_iterator(get_tokens(train_dataset), specials=['<unk>'])\n",
        "vocab.set_default_index(vocab['<unk>'])\n",
        "\n",
        "def get_POS_tokens(data_iter):\n",
        "  for sample in range(len(data_iter)):\n",
        "    yield data_iter[sample][\"POS\"]\n",
        "POS_vocab = build_vocab_from_iterator(get_POS_tokens(train_dataset), specials=['<unk>'])\n",
        "POS_vocab.set_default_index(POS_vocab['<unk>'])\n",
        "\n",
        "# def get_DEP_tokens(data_iter):\n",
        "#   for sample in range(len(data_iter)):\n",
        "#     yield data_iter[sample][\"DEP\"]\n",
        "# DEP_vocab = build_vocab_from_iterator(get_DEP_tokens(train_dataset), specials=['<unk>'])\n",
        "# DEP_vocab.set_default_index(DEP_vocab['<unk>'])\n",
        "\n",
        "print(\"vocab sizes\")\n",
        "# print(\"word:\",len(vocab),\"POS:\",len(POS_vocab), \"DEP:\",len(DEP_vocab))\n",
        "print(\"word:\",len(vocab),\"POS:\",len(POS_vocab))"
      ],
      "metadata": {
        "id": "7PKgAyTnTevz",
        "colab": {
          "base_uri": "https://localhost:8080/"
        },
        "outputId": "2ae423d5-0981-4060-f0d5-3f4d58ffe8a7"
      },
      "execution_count": null,
      "outputs": [
        {
          "output_type": "stream",
          "name": "stdout",
          "text": [
            "vocab sizes\n",
            "word: 11742 POS: 35\n"
          ]
        }
      ]
    },
    {
      "cell_type": "code",
      "source": [
        "# understanding vocab\n",
        "import matplotlib.pyplot as plt\n",
        "print(\"size of vocab: \",len(vocab))\n",
        "train_dataset = LiarDataset(train,meta_data_train, vocab = vocab, build_vocab = True)\n",
        "freq_dict = {}\n",
        "for sample in range(len(train_dataset)):\n",
        "  for word in train_dataset.tokenizer(train_dataset[sample][\"Text\"]):\n",
        "    if word not in freq_dict.keys():\n",
        "      freq_dict[word] = 1\n",
        "    freq_dict[word] +=1\n",
        "sorted_frequency_dict = dict(sorted(freq_dict.items(), key=lambda x: x[1], reverse=True))\n",
        "\n",
        "plt.figure(figsize=(20, 6))\n",
        "plt.bar(list(sorted_frequency_dict.keys())[:100], list(sorted_frequency_dict.values())[:100])\n",
        "plt.xlabel('Keys')\n",
        "plt.ylabel('Frequency')\n",
        "plt.title('Frequency Distribution (Sorted by Keys)')\n",
        "plt.xticks(rotation=90)\n",
        "plt.show()\n",
        "# print(list(freq_dict.keys())[:100], list(freq_dict.values())[:100])"
      ],
      "metadata": {
        "colab": {
          "base_uri": "https://localhost:8080/",
          "height": 290
        },
        "id": "-ADIBVkji_Z1",
        "outputId": "7c8819f3-7ca4-494c-b2a3-26abb2f96fe1"
      },
      "execution_count": null,
      "outputs": [
        {
          "output_type": "stream",
          "name": "stdout",
          "text": [
            "size of vocab:  11742\n"
          ]
        },
        {
          "output_type": "display_data",
          "data": {
            "text/plain": [
              "<Figure size 2000x600 with 1 Axes>"
            ],
            "image/png": "[encoded data removed]"
          },
          "metadata": {}
        }
      ]
    },
    {
      "cell_type": "code",
      "source": [
        "\n",
        "\n",
        "# getting POS\n",
        "train_dataset = LiarDataset(train,meta_data_train, vocab = vocab, POS_vocab=POS_vocab,  build_vocab = True)\n",
        "for sample in range(0,2):\n",
        "  print(\"sentence:\",train_dataset.tokenizer(train_dataset[sample][\"Text\"]))\n",
        "  print(\"POS tags:\",train_dataset[sample][\"POS\"])\n",
        "print(\"\\n------------------after vocabulary mapping-------------------\\n\")\n",
        "train_dataset = LiarDataset(train,meta_data_train, vocab = vocab, POS_vocab=POS_vocab, build_vocab = False)\n",
        "for sample in range(0,2):\n",
        "  print(\"sentence:\",train_dataset[sample][\"Text\"])\n",
        "  print(\"POS tags:\",train_dataset[sample][\"POS\"])"
      ],
      "metadata": {
        "colab": {
          "base_uri": "https://localhost:8080/"
        },
        "id": "g4wSpO1-oHbg",
        "outputId": "376e45f3-878a-4151-c436-49af7bb6fdd5"
      },
      "execution_count": null,
      "outputs": [
        {
          "output_type": "stream",
          "name": "stdout",
          "text": [
            "sentence: ['say', 'annies', 'list', 'political', 'group', 'support', 'thirdtrimester', 'abortion', 'demand']\n",
            "POS tags: ['VBZ', 'NNS', 'JJ', 'JJ', 'NN', 'VBZ', 'NN', 'NNS', 'NN']\n",
            "sentence: ['decline', 'coal', 'start', 'started', 'natural', 'gas', 'took', 'started', 'begin', 'president', 'george', 'w', 'bush', 'administration']\n",
            "POS tags: ['NN', 'NN', 'NN', 'VBD', 'JJ', 'NN', 'VBD', 'VBN', 'NN', 'NN', 'NN', 'VBD', 'JJ', 'NN']\n",
            "\n",
            "------------------after vocabulary mapping-------------------\n",
            "\n",
            "sentence: tensor([   1, 6963,  902,  444,  325,   71, 6064,  123, 1435,    0,    0,    0,\n",
            "           0,    0,    0,    0,    0,    0,    0,    0,    0,    0,    0,    0,\n",
            "           0,    0,    0,    0,    0,    0,    0,    0,    0,    0,    0,    0,\n",
            "           0,    0,    0,    0,    0,    0,    0,    0,    0,    0,    0,    0,\n",
            "           0,    0])\n",
            "POS tags: tensor([7, 2, 3, 3, 1, 7, 1, 2, 1, 0, 0, 0, 0, 0, 0, 0, 0, 0, 0, 0, 0, 0, 0, 0,\n",
            "        0, 0, 0, 0, 0, 0, 0, 0, 0, 0, 0, 0, 0, 0, 0, 0, 0, 0, 0, 0, 0, 0, 0, 0,\n",
            "        0, 0])\n",
            "sentence: tensor([1734,  929,  815,  517,  994,  212,  112,  517, 1511,    7,  214,  508,\n",
            "          89,  102,    0,    0,    0,    0,    0,    0,    0,    0,    0,    0,\n",
            "           0,    0,    0,    0,    0,    0,    0,    0,    0,    0,    0,    0,\n",
            "           0,    0,    0,    0,    0,    0,    0,    0,    0,    0,    0,    0,\n",
            "           0,    0])\n",
            "POS tags: tensor([ 1,  1,  1,  5,  3,  1,  5, 10,  1,  1,  1,  5,  3,  1,  0,  0,  0,  0,\n",
            "         0,  0,  0,  0,  0,  0,  0,  0,  0,  0,  0,  0,  0,  0,  0,  0,  0,  0,\n",
            "         0,  0,  0,  0,  0,  0,  0,  0,  0,  0,  0,  0,  0,  0])\n"
          ]
        }
      ]
    },
    {
      "cell_type": "code",
      "source": [
        "train_dataset = LiarDataset(train,meta_data_train, vocab = vocab, POS_vocab=POS_vocab, build_vocab = False)\n",
        "test_dataset = LiarDataset(test,meta_data_test, vocab = vocab, POS_vocab=POS_vocab, build_vocab = False)\n",
        "val_dataset = LiarDataset(val,meta_data_val, vocab = vocab, POS_vocab=POS_vocab, build_vocab = False)"
      ],
      "metadata": {
        "id": "cwPBAQCtc-aO"
      },
      "execution_count": null,
      "outputs": []
    },
    {
      "cell_type": "code",
      "source": [
        "\n",
        "for sample in range(len(train_dataset)):\n",
        "  print(train_dataset[sample]['Text'])\n",
        "  print(train_dataset[sample]['POS'])\n",
        "  print(train_dataset[sample]['Meta'])\n",
        "  print(train_dataset[sample]['Label'])\n",
        "  break"
      ],
      "metadata": {
        "colab": {
          "base_uri": "https://localhost:8080/"
        },
        "id": "73AFV45ue0vY",
        "outputId": "8da067b1-845f-4666-cfce-564647bd164b"
      },
      "execution_count": null,
      "outputs": [
        {
          "output_type": "stream",
          "name": "stdout",
          "text": [
            "tensor([   1, 6963,  902,  444,  325,   71, 6064,  123, 1435,    0,    0,    0,\n",
            "           0,    0,    0,    0,    0,    0,    0,    0,    0,    0,    0,    0,\n",
            "           0,    0,    0,    0,    0,    0,    0,    0,    0,    0,    0,    0,\n",
            "           0,    0,    0,    0,    0,    0,    0,    0,    0,    0,    0,    0,\n",
            "           0,    0])\n",
            "tensor([7, 2, 3, 3, 1, 7, 1, 2, 1, 0, 0, 0, 0, 0, 0, 0, 0, 0, 0, 0, 0, 0, 0, 0,\n",
            "        0, 0, 0, 0, 0, 0, 0, 0, 0, 0, 0, 0, 0, 0, 0, 0, 0, 0, 0, 0, 0, 0, 0, 0,\n",
            "        0, 0])\n",
            "tensor([1, 0, 0, 0, 0, 0, 0, 0, 0, 0, 0, 0, 0, 0, 0, 0, 0, 0, 0, 0, 0, 0, 0, 0,\n",
            "        0, 0, 0, 0, 1, 0, 0, 0, 0, 0, 0, 0, 0, 0, 0, 0, 0, 0, 0, 0, 0, 0, 0, 0,\n",
            "        0, 0, 0, 0, 0, 0, 0, 0, 0, 1, 0, 0, 0, 0, 0, 0, 0, 0, 0, 0, 0, 0, 0, 0,\n",
            "        0, 0, 0, 0, 0, 0, 0, 0, 1, 0, 0, 0, 0, 1, 0, 0, 0])\n",
            "tensor([[0., 1., 0., 0., 0., 0.]], dtype=torch.float64)\n"
          ]
        }
      ]
    },
    {
      "cell_type": "code",
      "source": [
        "def custom_collate(batch):\n",
        "    texts = [item[\"Text\"] for item in batch]\n",
        "    POS = [item[\"POS\"] for item in batch]\n",
        "    meta = [item[\"Meta\"] for item in batch]\n",
        "    labels = [item[\"Label\"] for item in batch]\n",
        "    # Convert the list of texts and labels to tensors and stack them\n",
        "    # text_tensor = torch.nn.utils.rnn.pad_sequence(texts, batch_first=True, padding_value=0).to(torch.device('cuda' if torch.cuda.is_available() else 'cpu'))\n",
        "    text_tensor = torch.stack(texts)\n",
        "    POS_tensor = torch.stack(POS)\n",
        "    meta_tensor = torch.stack(meta)\n",
        "    label_tensor = torch.stack(labels)\n",
        "    return {\"Text\": text_tensor, \"POS\": POS_tensor,\"Meta\": meta_tensor,\"Label\": label_tensor}\n"
      ],
      "metadata": {
        "id": "d9Z39XWlcJzy"
      },
      "execution_count": null,
      "outputs": []
    },
    {
      "cell_type": "code",
      "source": [
        "batch_size = 4\n",
        "shuffle = True\n",
        "num_workers = 4\n",
        "train_dataloader = torch.utils.data.DataLoader(train_dataset, batch_size=batch_size, shuffle=shuffle, num_workers=num_workers, collate_fn=custom_collate)\n",
        "val_dataloader = torch.utils.data.DataLoader(val_dataset, batch_size=batch_size, shuffle=shuffle, num_workers=num_workers, collate_fn=custom_collate)\n",
        "test_dataloader = torch.utils.data.DataLoader(test_dataset, batch_size=batch_size, shuffle=shuffle, num_workers=num_workers, collate_fn=custom_collate)"
      ],
      "metadata": {
        "id": "GvAhrDubZsUM"
      },
      "execution_count": null,
      "outputs": []
    }
  ]
}